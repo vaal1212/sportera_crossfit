{
 "cells": [
  {
   "cell_type": "code",
   "execution_count": 2,
   "id": "dc2c7c4d",
   "metadata": {},
   "outputs": [],
   "source": [
    "from db.models import Task"
   ]
  },
  {
   "cell_type": "code",
   "execution_count": 3,
   "id": "96528991",
   "metadata": {},
   "outputs": [
    {
     "name": "stdout",
     "output_type": "stream",
     "text": [
      "<class 'db.models.Task'>\n"
     ]
    }
   ],
   "source": [
    "print(Task)"
   ]
  },
  {
   "cell_type": "code",
   "execution_count": null,
   "id": "03ec15cb",
   "metadata": {},
   "outputs": [],
   "source": []
  }
 ],
 "metadata": {
  "kernelspec": {
   "display_name": "Django Shell-Plus",
   "language": "python",
   "name": "django_extensions"
  },
  "language_info": {
   "codemirror_mode": {
    "name": "ipython",
    "version": 3
   },
   "file_extension": ".py",
   "mimetype": "text/x-python",
   "name": "python",
   "nbconvert_exporter": "python",
   "pygments_lexer": "ipython3",
   "version": "3.8.2"
  }
 },
 "nbformat": 4,
 "nbformat_minor": 5
}
